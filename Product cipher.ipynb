{
 "cells": [
  {
   "cell_type": "code",
   "execution_count": 3,
   "id": "59f39831",
   "metadata": {},
   "outputs": [
    {
     "name": "stdout",
     "output_type": "stream",
     "text": [
      "Enter the text: ansh\n",
      "Enter the Key:as\n",
      "Encrypted text: asfz\n",
      "Decrypted text: ansh\n"
     ]
    }
   ],
   "source": [
    "def vigenere_cipher(plaintext, key, mode='encrypt'):\n",
    "    ciphertext = ''                              \n",
    "    key_length = len(key)                        \n",
    "    key_index = 0                                           # Initialize an index to keep track of the current position alphabets in the key\n",
    "    \n",
    "    for char in plaintext:                       \n",
    "        if char.isalpha():                       \n",
    "            shift = ord(key[key_index].upper()) - ord('A')  # Calculate the shift value based on the current letter of the key\n",
    "            if mode == 'decrypt':                \n",
    "                shift = -shift                              # In decryption mode, the shift is negative\n",
    "            new_char = chr((ord(char.upper()) - ord('A') + shift) % 26 + ord('A'))  \n",
    "            ciphertext += new_char.lower() if char.islower() else new_char  \n",
    "            key_index = (key_index + 1) % key_length        # Move to the next letter of the key, looping back to the beginning if necessary\n",
    "        else:\n",
    "            ciphertext += char                  \n",
    "    \n",
    "    return ciphertext                            \n",
    "\n",
    "def encrypt_rail_fence(text):\n",
    "\n",
    "    fence = [[] for _ in range(2)]\n",
    "    rail = 0\n",
    "    direction = 1\n",
    "    for char in text:\n",
    "        fence[rail].append(char)\n",
    "        rail += direction\n",
    "        if rail == 1 or rail == 0:\n",
    "            direction = -direction\n",
    "    ciphertext = ''.join([''.join(rail) for rail in fence])\n",
    "    return ciphertext\n",
    "\n",
    "def decrypt_rail_fence(code):\n",
    "    p1=[]\n",
    "    p2=[]\n",
    "    i=0\n",
    "    while(i<(len(code)/2)):\n",
    "        p1.append(code[i])\n",
    "        i+=1\n",
    "    while(i<len(code)):\n",
    "        p2.append(code[i])\n",
    "        i+=1\n",
    "    j=0\n",
    "    str=''\n",
    "    if len(code)%2==0:\n",
    "        while j < len(p1):  \n",
    "            str += p1[j]\n",
    "            str += p2[j]\n",
    "            j += 1\n",
    "    else:\n",
    "        while j < len(p2):  \n",
    "            str += p1[j]\n",
    "            str += p2[j]\n",
    "            j += 1\n",
    "        str+=p1[j]\n",
    "    return str\n",
    "\n",
    "def encrypt_product(plaintext,key):\n",
    "    return(encrypt_rail_fence(vigenere_cipher(plaintext, key, mode='encrypt')))\n",
    "\n",
    "def decrypt_product(plaintext,key):\n",
    "    cipher=encrypt_product(plaintext,key)\n",
    "    return(vigenere_cipher(decrypt_rail_fence(cipher), key, mode='decrypt'))\n",
    "plaintext = input(\"Enter the text: \")\n",
    "key = input(\"Enter the Key:\")\n",
    "encrypted_text = encrypt_product(plaintext,key)\n",
    "print(\"Encrypted text:\", encrypted_text)\n",
    "\n",
    "decrypted_text = decrypt_product(plaintext,key)\n",
    "print(\"Decrypted text:\",decrypted_text)\n"
   ]
  },
  {
   "cell_type": "code",
   "execution_count": null,
   "id": "88d44511",
   "metadata": {},
   "outputs": [],
   "source": []
  }
 ],
 "metadata": {
  "kernelspec": {
   "display_name": "Python 3 (ipykernel)",
   "language": "python",
   "name": "python3"
  },
  "language_info": {
   "codemirror_mode": {
    "name": "ipython",
    "version": 3
   },
   "file_extension": ".py",
   "mimetype": "text/x-python",
   "name": "python",
   "nbconvert_exporter": "python",
   "pygments_lexer": "ipython3",
   "version": "3.11.5"
  }
 },
 "nbformat": 4,
 "nbformat_minor": 5
}
