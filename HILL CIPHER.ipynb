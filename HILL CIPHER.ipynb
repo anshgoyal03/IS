{
 "cells": [
  {
   "cell_type": "code",
   "execution_count": 2,
   "id": "29670316",
   "metadata": {},
   "outputs": [
    {
     "name": "stdout",
     "output_type": "stream",
     "text": [
      "Enter the text: HAPPY\n",
      "Encrypted text: REYFCC\n",
      "[[1 2 3]\n",
      " [0 1 4]\n",
      " [5 6 0]]\n",
      "Decrypted text: HAPPYX\n"
     ]
    }
   ],
   "source": [
    "#HILL CIPHER\n",
    "import numpy as np\n",
    "def inverse(matrix, modulus):\n",
    "    det = int(np.round(np.linalg.det(matrix))) % modulus\n",
    "    det_inv = -1\n",
    "    for i in range(1, modulus):\n",
    "        if (det * i) % modulus == 1:\n",
    "            det_inv = i\n",
    "            break\n",
    "    if det_inv == -1:\n",
    "        raise ValueError(\"Matrix is not invertible modulo %d\" % modulus)\n",
    "    \n",
    "    adjugate = det * np.linalg.inv(matrix)\n",
    "    adjugate = np.round(adjugate).astype(int) % modulus\n",
    "    inverse_matrix = (det_inv * adjugate) % modulus\n",
    "    return inverse_matrix\n",
    "    \n",
    "def text_to_matrix(text, n):\n",
    "\n",
    "    text = text.upper().replace(\" \", \"\")\n",
    "    padding = (n - len(text) % n) % n\n",
    "    text += \"X\" * padding\n",
    "    matrix = []\n",
    "    for i in range(0, len(text), n):\n",
    "        row = []\n",
    "        for char in text[i:i + n]:\n",
    "            row.append(ord(char) - ord('A'))\n",
    "        matrix.append(row)\n",
    "    return matrix\n",
    "\n",
    "def matrix_to_text(matrix):\n",
    "    #Converts a matrix of integers to a string of characters.\n",
    "    \n",
    "    text = \"\"\n",
    "    for row in matrix:\n",
    "        for val in row:\n",
    "            text += chr(val + ord('A'))\n",
    "    return text\n",
    "\n",
    "def encrypt(plaintext, key):\n",
    "\n",
    "    n = len(key)\n",
    "    plaintext_matrix = text_to_matrix(plaintext, n)\n",
    "    key_matrix = np.array(key)\n",
    "    ciphertext_matrix = np.dot(plaintext_matrix, key_matrix) % 26\n",
    "    return matrix_to_text(ciphertext_matrix)\n",
    "\n",
    "def decrypt(ciphertext, key):\n",
    " \n",
    "    n = len(key)\n",
    "    ciphertext_matrix = text_to_matrix(ciphertext, n)\n",
    "    key_matrix = np.array(key)\n",
    "    key_inverse = inverse(key_matrix, 26)\n",
    "    print(key_inverse)\n",
    "    plaintext_matrix = np.dot(ciphertext_matrix, key_inverse) % 26\n",
    "    return matrix_to_text(plaintext_matrix)\n",
    "\n",
    "plaintext = input(\"Enter the text: \")\n",
    "#key=input(\"Enter the key: \")\n",
    "key=[[-24,18,5],[20,-15,-4],[-5,4,1]]\n",
    "#key = [[3, 2], [5, 7]]  # Encryption key\n",
    "ciphertext = encrypt(plaintext, key)\n",
    "print(\"Encrypted text:\", ciphertext)\n",
    "\n",
    "decrypted_text = decrypt(ciphertext, key)\n",
    "print(\"Decrypted text:\", decrypted_text)"
   ]
  },
  {
   "cell_type": "code",
   "execution_count": null,
   "id": "4833465b",
   "metadata": {},
   "outputs": [],
   "source": []
  }
 ],
 "metadata": {
  "kernelspec": {
   "display_name": "Python 3 (ipykernel)",
   "language": "python",
   "name": "python3"
  },
  "language_info": {
   "codemirror_mode": {
    "name": "ipython",
    "version": 3
   },
   "file_extension": ".py",
   "mimetype": "text/x-python",
   "name": "python",
   "nbconvert_exporter": "python",
   "pygments_lexer": "ipython3",
   "version": "3.11.5"
  }
 },
 "nbformat": 4,
 "nbformat_minor": 5
}
