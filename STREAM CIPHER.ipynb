{
 "cells": [
  {
   "cell_type": "code",
   "execution_count": 4,
   "id": "4f96035a",
   "metadata": {},
   "outputs": [
    {
     "name": "stdout",
     "output_type": "stream",
     "text": [
      "Enter the Bit Code: 10101\n",
      "Encrypted bit code: 00000\n",
      "Decrypted bit code: 10101\n"
     ]
    }
   ],
   "source": [
    "def encrypt_bit_code(bit_code):\n",
    "    num_bits = len(bit_code)\n",
    "    if num_bits % 2 == 0:\n",
    "        # Invert every even bit\n",
    "        encrypted_bit_code = ''.join(['0' if i % 2 == 0 else '1' if bit == '0' else '0' for i, bit in enumerate(bit_code)])\n",
    "    else:\n",
    "        # Invert every odd bit\n",
    "        encrypted_bit_code = ''.join(['0' if i % 2 != 0 else '1' if bit == '0' else '0' for i, bit in enumerate(bit_code)])\n",
    "    return encrypted_bit_code\n",
    "\n",
    "def decrypt_bit_code(encrypted_bit_code):\n",
    "    num_bits = len(encrypted_bit_code)\n",
    "    if num_bits % 2 == 0:\n",
    "        # Invert every even bit again\n",
    "        decrypted_bit_code = ''.join(['0' if i % 2 == 0 else '1' if bit == '0' else '0' for i, bit in enumerate(encrypted_bit_code)])\n",
    "    else:\n",
    "        # Invert every odd bit again\n",
    "        decrypted_bit_code = ''.join(['0' if i % 2 != 0 else '1' if bit == '0' else '0' for i, bit in enumerate(encrypted_bit_code)])\n",
    "    return decrypted_bit_code\n",
    "\n",
    "bit_code = input(\"Enter the Bit Code: \")  \n",
    "\n",
    "# Encrypt the bit code\n",
    "encrypted_bit_code = encrypt_bit_code(bit_code)\n",
    "print(\"Encrypted bit code:\", encrypted_bit_code)\n",
    "\n",
    "# Decrypt the encrypted bit code\n",
    "decrypted_bit_code = decrypt_bit_code(encrypted_bit_code)\n",
    "print(\"Decrypted bit code:\", decrypted_bit_code)\n"
   ]
  },
  {
   "cell_type": "code",
   "execution_count": null,
   "id": "6230efc8",
   "metadata": {},
   "outputs": [],
   "source": []
  }
 ],
 "metadata": {
  "kernelspec": {
   "display_name": "Python 3 (ipykernel)",
   "language": "python",
   "name": "python3"
  },
  "language_info": {
   "codemirror_mode": {
    "name": "ipython",
    "version": 3
   },
   "file_extension": ".py",
   "mimetype": "text/x-python",
   "name": "python",
   "nbconvert_exporter": "python",
   "pygments_lexer": "ipython3",
   "version": "3.11.5"
  }
 },
 "nbformat": 4,
 "nbformat_minor": 5
}
