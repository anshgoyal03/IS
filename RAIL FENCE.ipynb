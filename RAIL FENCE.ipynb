{
 "cells": [
  {
   "cell_type": "code",
   "execution_count": 1,
   "id": "7bc3fca8",
   "metadata": {},
   "outputs": [
    {
     "name": "stdout",
     "output_type": "stream",
     "text": [
      "Enter the plaintext: HELLO\n",
      "Encrypted text: HLOEL\n",
      "Decrypted text: HELLO\n"
     ]
    }
   ],
   "source": [
    "def encrypt_rail_fence(plaintext, rails):\n",
    "    fence = [''] * rails\n",
    "    rail = 0\n",
    "    direction = 1\n",
    "\n",
    "    for char in plaintext:\n",
    "        fence[rail] += char\n",
    "        rail += direction\n",
    "        if rail == rails - 1 or rail == 0:\n",
    "            direction *= -1\n",
    "\n",
    "    ciphertext = ''.join(fence)\n",
    "    return ciphertext\n",
    "\n",
    "def decrypt_rail_fence(ciphertext, rails):\n",
    "    fence = [''] * rails\n",
    "    rail = 0\n",
    "    direction = 1\n",
    "    gap = len(ciphertext)\n",
    "\n",
    "    for char in ciphertext:\n",
    "        fence[rail] += 'X'\n",
    "        rail += direction\n",
    "        if rail == rails - 1 or rail == 0:\n",
    "            direction *= -1\n",
    "        gap -= 1\n",
    "\n",
    "    index = 0\n",
    "    for i in range(rails):\n",
    "        for j in range(len(fence[i])):\n",
    "            if fence[i][j] == 'X' and index < len(ciphertext):\n",
    "                fence[i] = fence[i][:j] + ciphertext[index] + fence[i][j+1:]\n",
    "                index += 1\n",
    "\n",
    "    plaintext = ''\n",
    "    rail = 0\n",
    "    direction = 1\n",
    "    for _ in range(len(ciphertext)):\n",
    "        plaintext += fence[rail][0]\n",
    "        fence[rail] = fence[rail][1:]\n",
    "        rail += direction\n",
    "        if rail == rails - 1 or rail == 0:\n",
    "            direction *= -1\n",
    "\n",
    "    return plaintext\n",
    "\n",
    "# Test the functions\n",
    "plaintext = input(\"Enter the plaintext: \")\n",
    "rails = 2\n",
    "ciphertext = encrypt_rail_fence(plaintext, rails)\n",
    "print(\"Encrypted text:\", ciphertext)\n",
    "\n",
    "decrypted_text = decrypt_rail_fence(ciphertext, rails)\n",
    "print(\"Decrypted text:\", decrypted_text)"
   ]
  },
  {
   "cell_type": "code",
   "execution_count": null,
   "id": "fbd67f02",
   "metadata": {},
   "outputs": [],
   "source": []
  }
 ],
 "metadata": {
  "kernelspec": {
   "display_name": "Python 3 (ipykernel)",
   "language": "python",
   "name": "python3"
  },
  "language_info": {
   "codemirror_mode": {
    "name": "ipython",
    "version": 3
   },
   "file_extension": ".py",
   "mimetype": "text/x-python",
   "name": "python",
   "nbconvert_exporter": "python",
   "pygments_lexer": "ipython3",
   "version": "3.11.5"
  }
 },
 "nbformat": 4,
 "nbformat_minor": 5
}
